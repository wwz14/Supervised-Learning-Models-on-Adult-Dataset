{
 "cells": [
  {
   "cell_type": "code",
   "execution_count": 1,
   "metadata": {},
   "outputs": [],
   "source": [
    "import numpy as np\n",
    "import pandas as pd\n",
    "import matplotlib.pyplot as plt\n",
    "import warnings\n",
    "from sklearn.preprocessing import LabelEncoder, OneHotEncoder\n",
    "warnings.filterwarnings('ignore')\n",
    "\n",
    "adult = pd.read_csv(\"data/adult_training.csv\",\n",
    "                      delimiter=\",\",\n",
    "                      skipinitialspace=True,\n",
    "                        #nrows=10000,\n",
    "                      dtype=None)\n",
    "\n",
    "adult_test = pd.read_csv(\"data/adult_training.csv\",\n",
    "                      delimiter=\",\",\n",
    "                      skipinitialspace=True,\n",
    "                        #nrows=10000,\n",
    "                      dtype=None)\n",
    "\n",
    "from sklearn.model_selection import train_test_split\n",
    "from __future__ import division\n",
    "from sklearn.linear_model import LogisticRegression\n",
    "from sklearn.metrics import confusion_matrix\n"
   ]
  },
  {
   "cell_type": "code",
   "execution_count": 2,
   "metadata": {},
   "outputs": [],
   "source": [
    "def adult_preprocess_balanced(adult):\n",
    "    \"\"\"Takes in an adult income pandas dataframe, removes '?', \n",
    "    expands categorical data returns X and Y arrays\"\"\"\n",
    "    \n",
    "    # remove rows with '?'s\n",
    "    adult = adult[(adult != '?').all(1)]\n",
    "    \n",
    "    # convert categorical data into one-hot\n",
    "    adult_one_hot = pd.get_dummies(adult)\n",
    "    \n",
    "    adult_over_50k = adult_one_hot[adult_one_hot['income_>50K'] == 1].sample(n=7500, random_state=0)\n",
    "    adult_under_50k = adult_one_hot[adult_one_hot['income_>50K'] == 0].sample(n=7500, random_state=0)\n",
    "    \n",
    "    frames = [adult_over_50k, adult_under_50k]\n",
    "    \n",
    "    adult_clean = pd.concat(frames)\n",
    "    adult_clean = adult_clean.sample(frac=1)\n",
    "    \n",
    "    # split into inputs and targets\n",
    "    X = adult_clean.iloc[:,0:-2].values\n",
    "    Y = adult_clean.loc[:,'income_>50K'].values\n",
    "    \n",
    "    return X, Y"
   ]
  },
  {
   "cell_type": "code",
   "execution_count": 3,
   "metadata": {},
   "outputs": [],
   "source": [
    "def adult_preprocess_unbalanced(adult):\n",
    "    \"\"\"Takes in an adult income pandas dataframe, removes '?', \n",
    "    expands categorical data returns X and Y arrays\"\"\"\n",
    "    \n",
    "    # remove rows with '?'s\n",
    "    adult = adult[(adult != '?').all(1)]\n",
    "    \n",
    "    # convert categorical data into one-hot\n",
    "    adult_one_hot = pd.get_dummies(adult)\n",
    "\n",
    "    # split into inputs and targets\n",
    "    X = adult_one_hot.iloc[:,0:-2].values\n",
    "    Y = adult_one_hot.loc[:,'income_>50K'].values\n",
    "    \n",
    "    return X, Y"
   ]
  },
  {
   "cell_type": "code",
   "execution_count": 4,
   "metadata": {},
   "outputs": [],
   "source": [
    "X, Y = adult_preprocess_unbalanced(adult)\n",
    "X_train, X_val, Y_train, Y_val = train_test_split(X, Y, test_size = 0.2, random_state = 0)\n",
    "\n",
    "X_test, Y_test = adult_preprocess_unbalanced(adult_test)\n"
   ]
  },
  {
   "cell_type": "code",
   "execution_count": 5,
   "metadata": {},
   "outputs": [
    {
     "name": "stdout",
     "output_type": "stream",
     "text": [
      "7508\n",
      "22654\n"
     ]
    }
   ],
   "source": [
    "# print(list(adult_one_hot))\n",
    "# print(list(X))\n",
    "print(len(Y[Y==1]))\n",
    "print(len(Y[Y==0]))"
   ]
  },
  {
   "cell_type": "code",
   "execution_count": 6,
   "metadata": {},
   "outputs": [
    {
     "data": {
      "text/plain": [
       "LogisticRegression(C=1.0, class_weight=None, dual=False, fit_intercept=True,\n",
       "          intercept_scaling=1, max_iter=100, multi_class='warn',\n",
       "          n_jobs=None, penalty='l2', random_state=0, solver='warn',\n",
       "          tol=0.0001, verbose=0, warm_start=False)"
      ]
     },
     "execution_count": 6,
     "metadata": {},
     "output_type": "execute_result"
    }
   ],
   "source": [
    "classifier = LogisticRegression(random_state=0)\n",
    "classifier.fit(X_train,Y_train)"
   ]
  },
  {
   "cell_type": "code",
   "execution_count": 7,
   "metadata": {},
   "outputs": [
    {
     "name": "stdout",
     "output_type": "stream",
     "text": [
      "[1. 0. 0. ... 0. 0. 1.]\n"
     ]
    }
   ],
   "source": [
    "p_thres = 0.4\n",
    "\n",
    "Y_pred = classifier.predict(X_val)\n",
    "Y_test_pred = classifier.predict(X_test)\n",
    "Y_test_pred = classifier.predict_proba(X_test)\n",
    "Y_test_pred = Y_test_pred[:,1]\n",
    "Y_test_pred[Y_test_pred >= p_thres] = 1 \n",
    "Y_test_pred[Y_test_pred < p_thres ] = 0\n",
    "\n",
    "print(Y_test_pred)"
   ]
  },
  {
   "cell_type": "code",
   "execution_count": 8,
   "metadata": {},
   "outputs": [],
   "source": [
    "def print_metrics(Y_true, Y_pred):\n",
    "    \"\"\"Prints metrics comparing true and predicted classifications\"\"\"\n",
    "    \n",
    "    cm_test = confusion_matrix(y_true=Y_true, y_pred=Y_pred)\n",
    "\n",
    "    total = cm_test.sum()\n",
    "\n",
    "    correct = 0\n",
    "    for i in range(len(cm_test)):\n",
    "        correct += cm_test[i,i]\n",
    "    \n",
    "    acc = correct/total\n",
    "    \n",
    "    print(\"Confusion Matrix:\\n\")\n",
    "    print(\"      predicted class:\")\n",
    "    print(\"          0\\t1\")\n",
    "    print(\"        _____________\")\n",
    "    print(\"true  0| {}\\t{}\".format(cm_test[0,0], cm_test[0,1]))\n",
    "    print(\"class 1| {}\\t{}\".format(cm_test[1,0], cm_test[1,1]))\n",
    "    print(\"\")\n",
    "    print(\"Correct: \\t{}\".format(correct))\n",
    "    print(\"Misclassified: \\t{}\".format(total-correct))\n",
    "    print(\"Accuracy: \\t{:.2f}%\".format(acc*100))\n",
    "    print(\"Error rate: \\t{:.2f}%\".format((1-acc)*100))\n",
    "    print(\"Sensitivity: \\t{:.2f}% (true positive)\".format(cm_test[1,1]*100 / cm_test[1].sum()))\n",
    "    print(\"Specificity: \\t{:.2f}% (true negative)\".format(cm_test[0,0]*100 / cm_test[0].sum()))\n",
    "    print(\"Precision: \\t{:.2f}% (positive predict value)\".format(100*cm_test[1,1] / cm_test[:,1].sum()))\n",
    "    print(\"False Pos: \\t{:.2f}%\".format(100*cm_test[0,1] / cm_test[0].sum()))"
   ]
  },
  {
   "cell_type": "code",
   "execution_count": 9,
   "metadata": {},
   "outputs": [
    {
     "name": "stdout",
     "output_type": "stream",
     "text": [
      "Confusion Matrix:\n",
      "\n",
      "      predicted class:\n",
      "          0\t1\n",
      "        _____________\n",
      "true  0| 21387\t1267\n",
      "class 1| 5268\t2240\n",
      "\n",
      "Correct: \t23627\n",
      "Misclassified: \t6535\n",
      "Accuracy: \t78.33%\n",
      "Error rate: \t21.67%\n",
      "Sensitivity: \t29.83% (true positive)\n",
      "Specificity: \t94.41% (true negative)\n",
      "Precision: \t63.87% (positive predict value)\n",
      "False Pos: \t5.59%\n"
     ]
    }
   ],
   "source": [
    "print_metrics(Y_test, Y_test_pred)"
   ]
  },
  {
   "cell_type": "code",
   "execution_count": null,
   "metadata": {},
   "outputs": [],
   "source": []
  }
 ],
 "metadata": {
  "kernelspec": {
   "display_name": "Python 2",
   "language": "python",
   "name": "python2"
  },
  "language_info": {
   "codemirror_mode": {
    "name": "ipython",
    "version": 2
   },
   "file_extension": ".py",
   "mimetype": "text/x-python",
   "name": "python",
   "nbconvert_exporter": "python",
   "pygments_lexer": "ipython2",
   "version": "2.7.15"
  }
 },
 "nbformat": 4,
 "nbformat_minor": 2
}
